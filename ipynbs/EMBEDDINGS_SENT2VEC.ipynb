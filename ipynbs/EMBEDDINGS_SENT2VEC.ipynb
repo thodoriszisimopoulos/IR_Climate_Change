{
 "cells": [
  {
   "cell_type": "code",
   "execution_count": 1,
   "metadata": {},
   "outputs": [
    {
     "name": "stderr",
     "output_type": "stream",
     "text": [
      "[nltk_data] Downloading package averaged_perceptron_tagger to\n",
      "[nltk_data]     C:\\Users\\alexa\\AppData\\Roaming\\nltk_data...\n",
      "[nltk_data]   Package averaged_perceptron_tagger is already up-to-\n",
      "[nltk_data]       date!\n"
     ]
    }
   ],
   "source": [
    "import string\n",
    "import numpy as np\n",
    "import pandas as pd\n",
    "import re\n",
    "import pickle as pkl\n",
    "\n",
    "from gensim.models.doc2vec import Doc2Vec, TaggedDocument\n",
    "import nltk\n",
    "from nltk.corpus import stopwords\n",
    "from nltk import word_tokenize, WordNetLemmatizer, PorterStemmer, pos_tag, RegexpParser\n",
    "nltk.download('averaged_perceptron_tagger')\n",
    "wn = WordNetLemmatizer()\n",
    "ps = PorterStemmer()\n",
    "stopwords = stopwords.words('english')"
   ]
  },
  {
   "cell_type": "code",
   "execution_count": 2,
   "metadata": {},
   "outputs": [],
   "source": [
    "def cleantxt(text):\n",
    "    text = text.replace('\\r', ' ')\n",
    "    text = text.replace('\\n', ' ')\n",
    "    text = text.replace('\\t', ' ')\n",
    "    text = text.strip()\n",
    "    text = ''.join([wrd.lower() for wrd in text if wrd not in string.punctuation])\n",
    "    tokens = re.split('\\W+', text)\n",
    "    tokens = [wrd for wrd in tokens if wrd not in stopwords]\n",
    "    tokens = [wn.lemmatize(wrd) for wrd in tokens]\n",
    "    return tokens\n",
    "\n",
    "def cosine(u, v):\n",
    "    return np.dot(u, v) / (np.linalg.norm(u) * np.linalg.norm(v))"
   ]
  },
  {
   "cell_type": "code",
   "execution_count": 3,
   "metadata": {},
   "outputs": [],
   "source": [
    "df = pd.read_csv(\"../files/preprocessed_articles.csv\")"
   ]
  },
  {
   "cell_type": "code",
   "execution_count": 4,
   "metadata": {},
   "outputs": [
    {
     "data": {
      "text/html": [
       "<div>\n",
       "<style scoped>\n",
       "    .dataframe tbody tr th:only-of-type {\n",
       "        vertical-align: middle;\n",
       "    }\n",
       "\n",
       "    .dataframe tbody tr th {\n",
       "        vertical-align: top;\n",
       "    }\n",
       "\n",
       "    .dataframe thead th {\n",
       "        text-align: right;\n",
       "    }\n",
       "</style>\n",
       "<table border=\"1\" class=\"dataframe\">\n",
       "  <thead>\n",
       "    <tr style=\"text-align: right;\">\n",
       "      <th></th>\n",
       "      <th>link</th>\n",
       "      <th>title</th>\n",
       "      <th>text</th>\n",
       "    </tr>\n",
       "  </thead>\n",
       "  <tbody>\n",
       "    <tr>\n",
       "      <th>0</th>\n",
       "      <td>https://news.un.org//en/story/2023/10/1142552</td>\n",
       "      <td>World News in Brief: Sandstorm alert, albinism...</td>\n",
       "      <td>19 october 2023 the un world meteorological or...</td>\n",
       "    </tr>\n",
       "    <tr>\n",
       "      <th>1</th>\n",
       "      <td>https://news.un.org//en/story/2023/10/1142552</td>\n",
       "      <td>World News in Brief: Sandstorm alert, albinism...</td>\n",
       "      <td>19 october 2023 wmo chief petteri taalas said ...</td>\n",
       "    </tr>\n",
       "    <tr>\n",
       "      <th>2</th>\n",
       "      <td>https://news.un.org//en/story/2023/10/1142552</td>\n",
       "      <td>World News in Brief: Sandstorm alert, albinism...</td>\n",
       "      <td>19 october 2023 wmo said that exposure to dust...</td>\n",
       "    </tr>\n",
       "    <tr>\n",
       "      <th>3</th>\n",
       "      <td>https://news.un.org//en/story/2023/10/1142552</td>\n",
       "      <td>World News in Brief: Sandstorm alert, albinism...</td>\n",
       "      <td>19 october 2023 according to wmo in 2022 hotsp...</td>\n",
       "    </tr>\n",
       "    <tr>\n",
       "      <th>4</th>\n",
       "      <td>https://news.un.org//en/story/2023/10/1142552</td>\n",
       "      <td>World News in Brief: Sandstorm alert, albinism...</td>\n",
       "      <td>19 october 2023 prof taalas stressed wmos comm...</td>\n",
       "    </tr>\n",
       "    <tr>\n",
       "      <th>...</th>\n",
       "      <td>...</td>\n",
       "      <td>...</td>\n",
       "      <td>...</td>\n",
       "    </tr>\n",
       "    <tr>\n",
       "      <th>15862</th>\n",
       "      <td>https://news.un.org//en/story/2004/09/116712-c...</td>\n",
       "      <td>Concerns of island nations top final session o...</td>\n",
       "      <td>30 september 2004 in highlighting the devastat...</td>\n",
       "    </tr>\n",
       "    <tr>\n",
       "      <th>15863</th>\n",
       "      <td>https://news.un.org//en/story/2004/09/116712-c...</td>\n",
       "      <td>Concerns of island nations top final session o...</td>\n",
       "      <td>30 september 2004 talbak nazarov foreign minis...</td>\n",
       "    </tr>\n",
       "    <tr>\n",
       "      <th>15864</th>\n",
       "      <td>https://news.un.org//en/story/2004/09/116712-c...</td>\n",
       "      <td>Concerns of island nations top final session o...</td>\n",
       "      <td>30 september 2004 surinames foreign minister m...</td>\n",
       "    </tr>\n",
       "    <tr>\n",
       "      <th>15865</th>\n",
       "      <td>https://news.un.org//en/story/2004/09/116712-c...</td>\n",
       "      <td>Concerns of island nations top final session o...</td>\n",
       "      <td>30 september 2004 for carlos morales troncoso ...</td>\n",
       "    </tr>\n",
       "    <tr>\n",
       "      <th>15866</th>\n",
       "      <td>https://news.un.org//en/story/2004/09/116712-c...</td>\n",
       "      <td>Concerns of island nations top final session o...</td>\n",
       "      <td>30 september 2004 also participating in the ge...</td>\n",
       "    </tr>\n",
       "  </tbody>\n",
       "</table>\n",
       "<p>15867 rows × 3 columns</p>\n",
       "</div>"
      ],
      "text/plain": [
       "                                                    link  \\\n",
       "0          https://news.un.org//en/story/2023/10/1142552   \n",
       "1          https://news.un.org//en/story/2023/10/1142552   \n",
       "2          https://news.un.org//en/story/2023/10/1142552   \n",
       "3          https://news.un.org//en/story/2023/10/1142552   \n",
       "4          https://news.un.org//en/story/2023/10/1142552   \n",
       "...                                                  ...   \n",
       "15862  https://news.un.org//en/story/2004/09/116712-c...   \n",
       "15863  https://news.un.org//en/story/2004/09/116712-c...   \n",
       "15864  https://news.un.org//en/story/2004/09/116712-c...   \n",
       "15865  https://news.un.org//en/story/2004/09/116712-c...   \n",
       "15866  https://news.un.org//en/story/2004/09/116712-c...   \n",
       "\n",
       "                                                   title  \\\n",
       "0      World News in Brief: Sandstorm alert, albinism...   \n",
       "1      World News in Brief: Sandstorm alert, albinism...   \n",
       "2      World News in Brief: Sandstorm alert, albinism...   \n",
       "3      World News in Brief: Sandstorm alert, albinism...   \n",
       "4      World News in Brief: Sandstorm alert, albinism...   \n",
       "...                                                  ...   \n",
       "15862  Concerns of island nations top final session o...   \n",
       "15863  Concerns of island nations top final session o...   \n",
       "15864  Concerns of island nations top final session o...   \n",
       "15865  Concerns of island nations top final session o...   \n",
       "15866  Concerns of island nations top final session o...   \n",
       "\n",
       "                                                    text  \n",
       "0      19 october 2023 the un world meteorological or...  \n",
       "1      19 october 2023 wmo chief petteri taalas said ...  \n",
       "2      19 october 2023 wmo said that exposure to dust...  \n",
       "3      19 october 2023 according to wmo in 2022 hotsp...  \n",
       "4      19 october 2023 prof taalas stressed wmos comm...  \n",
       "...                                                  ...  \n",
       "15862  30 september 2004 in highlighting the devastat...  \n",
       "15863  30 september 2004 talbak nazarov foreign minis...  \n",
       "15864  30 september 2004 surinames foreign minister m...  \n",
       "15865  30 september 2004 for carlos morales troncoso ...  \n",
       "15866  30 september 2004 also participating in the ge...  \n",
       "\n",
       "[15867 rows x 3 columns]"
      ]
     },
     "execution_count": 4,
     "metadata": {},
     "output_type": "execute_result"
    }
   ],
   "source": [
    "df"
   ]
  },
  {
   "cell_type": "code",
   "execution_count": 5,
   "metadata": {},
   "outputs": [],
   "source": [
    "sents = list(df[\"text\"])"
   ]
  },
  {
   "cell_type": "code",
   "execution_count": 6,
   "metadata": {},
   "outputs": [],
   "source": [
    "sent_tokens = [cleantxt(sent) for sent in sents]"
   ]
  },
  {
   "cell_type": "code",
   "execution_count": 7,
   "metadata": {},
   "outputs": [],
   "source": [
    "tagged_data = [TaggedDocument(d, [i]) for i, d in enumerate(sent_tokens)]"
   ]
  },
  {
   "cell_type": "code",
   "execution_count": 13,
   "metadata": {},
   "outputs": [
    {
     "data": {
      "text/plain": [
       "TaggedDocument(words=['19', 'october', '2023', 'wmo', 'chief', 'petteri', 'taalas', 'said', 'partly', 'due', 'poor', 'water', 'land', 'management', 'phenomenon', 'also', 'exacerbated', 'higher', 'temperature', 'drought', 'brought', 'warming', 'climate', 'leading', 'higher', 'evaporation', 'drier', 'soil'], tags=[1])"
      ]
     },
     "execution_count": 13,
     "metadata": {},
     "output_type": "execute_result"
    }
   ],
   "source": [
    "tagged_data[1]"
   ]
  },
  {
   "cell_type": "code",
   "execution_count": 14,
   "metadata": {},
   "outputs": [
    {
     "data": {
      "text/plain": [
       "'\\nvector_size = Dimensionality of the feature vectors.\\nwindow = The maximum distance between the current and predicted word within a sentence.\\nmin_count = Ignores all words with total frequency lower than this.\\n'"
      ]
     },
     "execution_count": 14,
     "metadata": {},
     "output_type": "execute_result"
    }
   ],
   "source": [
    "## Train doc2vec model\n",
    "model = Doc2Vec(tagged_data,\n",
    "                 vector_size = 20,\n",
    "                 window = 2,\n",
    "                 min_count = 1,\n",
    "                 epochs = 100)\n",
    "\n",
    "'''\n",
    "vector_size = Dimensionality of the feature vectors.\n",
    "window = The maximum distance between the current and predicted word within a sentence.\n",
    "min_count = Ignores all words with total frequency lower than this.\n",
    "'''"
   ]
  },
  {
   "cell_type": "code",
   "execution_count": 15,
   "metadata": {},
   "outputs": [],
   "source": [
    "embeddings_sent2vec = model.wv.vectors\n",
    "embeddings_rows = model.wv.vectors.shape[0]\n",
    "embeddings_cols = model.wv.vectors.shape[1]"
   ]
  },
  {
   "cell_type": "code",
   "execution_count": 16,
   "metadata": {},
   "outputs": [],
   "source": [
    "with open(f'../files/embeddings_sent2vec_{embeddings_rows}_{embeddings_cols}.pkl', 'wb') as f:\n",
    "    pkl.dump(model, f)"
   ]
  },
  {
   "cell_type": "code",
   "execution_count": 20,
   "metadata": {},
   "outputs": [
    {
     "name": "stdout",
     "output_type": "stream",
     "text": [
      "2 july 2022 hazards and shocks can emerge from outside and within the system exposure to them can be indirect meaning that effects can be felt in places that are not directly affected by the hazard  in this case covid19  but end up being affected as a result of interconnectedness finally the vulnerability of one system can also turn into a hazard or shock for other interdependent systems \n",
      "provide information about drought \n"
     ]
    }
   ],
   "source": [
    "new_sent = input(\"Enter your query: \")\n",
    "test_doc = cleantxt(new_sent)\n",
    "test_doc_vector = model.infer_vector(test_doc)\n",
    "text_ind = model.dv.most_similar(positive = [test_doc_vector])[0][0]\n",
    "\n",
    "print(new_sent)\n",
    "print(df['text'][text_ind])\n"
   ]
  },
  {
   "cell_type": "code",
   "execution_count": 18,
   "metadata": {},
   "outputs": [
    {
     "data": {
      "text/plain": [
       "link         https://news.un.org//en/story/2022/05/1118942\n",
       "title    Deputy UN chief praises resilience of Bali stu...\n",
       "text     24 may 2022 thankfully the alarm that prompted...\n",
       "Name: 5209, dtype: object"
      ]
     },
     "execution_count": 18,
     "metadata": {},
     "output_type": "execute_result"
    }
   ],
   "source": [
    "df.loc[text_ind]"
   ]
  }
 ],
 "metadata": {
  "kernelspec": {
   "display_name": "ir_env",
   "language": "python",
   "name": "python3"
  },
  "language_info": {
   "codemirror_mode": {
    "name": "ipython",
    "version": 3
   },
   "file_extension": ".py",
   "mimetype": "text/x-python",
   "name": "python",
   "nbconvert_exporter": "python",
   "pygments_lexer": "ipython3",
   "version": "3.11.5"
  }
 },
 "nbformat": 4,
 "nbformat_minor": 2
}
