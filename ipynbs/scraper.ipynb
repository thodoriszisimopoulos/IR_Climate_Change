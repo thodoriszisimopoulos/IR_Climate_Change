{
 "cells": [
  {
   "cell_type": "code",
   "execution_count": 11,
   "metadata": {},
   "outputs": [],
   "source": [
    "import requests\n",
    "from bs4 import BeautifulSoup\n",
    "from tqdm.notebook import tqdm as tqdm # Explain loops\n",
    "\n",
    "import json\n",
    "import pandas as pd \n",
    "from time import sleep\n",
    "import random"
   ]
  },
  {
   "cell_type": "code",
   "execution_count": 61,
   "metadata": {},
   "outputs": [
    {
     "name": "stdout",
     "output_type": "stream",
     "text": [
      "https://news.un.org/en/news/topic/climate-change?page=0\n"
     ]
    }
   ],
   "source": [
    "url_list = []\n",
    "main_link = \"https://news.un.org/\"\n",
    "file_path = \"../files/url_list.txt\"\n",
    "max_page = 1\n",
    "\n",
    "for pg in range(max_page):\n",
    "    url = \"https://news.un.org/en/news/topic/climate-change?page=\"+ str(pg)\n",
    "    print(url)\n",
    "\n",
    "    response = requests.get(url, timeout= 25)\n",
    "    sleep(random.uniform(3,4))\n",
    "    if response.status_code == 200:\n",
    "        soup = BeautifulSoup(response.content, 'html.parser')\n",
    "        h2_list = list(soup.find_all('h2', class_ = 'node__title'))\n",
    "\n",
    "        for h2 in h2_list:\n",
    "            try:\n",
    "                href = h2.find('a').get('href')\n",
    "                url_list.append(main_link + href)\n",
    "            except:\n",
    "                print('href not found.')\n",
    "    else:\n",
    "        print(\"Response code not 200.\")\n",
    "\n",
    "with open(file_path, \"w\") as f:\n",
    "    for item in url_list:\n",
    "        f.write(str(item) + \"\\n\")"
   ]
  },
  {
   "cell_type": "code",
   "execution_count": null,
   "metadata": {},
   "outputs": [],
   "source": []
  }
 ],
 "metadata": {
  "kernelspec": {
   "display_name": "ir_env",
   "language": "python",
   "name": "python3"
  },
  "language_info": {
   "codemirror_mode": {
    "name": "ipython",
    "version": 3
   },
   "file_extension": ".py",
   "mimetype": "text/x-python",
   "name": "python",
   "nbconvert_exporter": "python",
   "pygments_lexer": "ipython3",
   "version": "3.11.5"
  }
 },
 "nbformat": 4,
 "nbformat_minor": 2
}
