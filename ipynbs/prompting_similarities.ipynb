{
 "cells": [
  {
   "cell_type": "code",
   "execution_count": 70,
   "metadata": {},
   "outputs": [],
   "source": [
    "import pickle as pkl\n",
    "from sentence_transformers import SentenceTransformer\n",
    "import numpy as np\n",
    "from sklearn.metrics.pairwise import cosine_similarity\n",
    "import pandas as pd"
   ]
  },
  {
   "cell_type": "code",
   "execution_count": 92,
   "metadata": {},
   "outputs": [],
   "source": [
    "df = pd.read_csv(\"../files/preprocessed_articles.csv\")\n",
    "with open('../files/embeddings.pickle.pkl', 'rb') as f:\n",
    "    embedding_bert = pkl.load(f)\n",
    "query = input(\"Enter your query: \")"
   ]
  },
  {
   "cell_type": "code",
   "execution_count": 95,
   "metadata": {},
   "outputs": [
    {
     "data": {
      "application/vnd.jupyter.widget-view+json": {
       "model_id": "c6f62ede54d24a6f92b31cd5c76c001e",
       "version_major": 2,
       "version_minor": 0
      },
      "text/plain": [
       "Batches:   0%|          | 0/1 [00:00<?, ?it/s]"
      ]
     },
     "metadata": {},
     "output_type": "display_data"
    },
    {
     "data": {
      "text/html": [
       "<div>\n",
       "<style scoped>\n",
       "    .dataframe tbody tr th:only-of-type {\n",
       "        vertical-align: middle;\n",
       "    }\n",
       "\n",
       "    .dataframe tbody tr th {\n",
       "        vertical-align: top;\n",
       "    }\n",
       "\n",
       "    .dataframe thead th {\n",
       "        text-align: right;\n",
       "    }\n",
       "</style>\n",
       "<table border=\"1\" class=\"dataframe\">\n",
       "  <thead>\n",
       "    <tr style=\"text-align: right;\">\n",
       "      <th></th>\n",
       "      <th>text</th>\n",
       "      <th>cosine_similarities</th>\n",
       "    </tr>\n",
       "  </thead>\n",
       "  <tbody>\n",
       "    <tr>\n",
       "      <th>5171</th>\n",
       "      <td>‘Think resilience’ to protect against climate ...</td>\n",
       "      <td>0.818388</td>\n",
       "    </tr>\n",
       "    <tr>\n",
       "      <th>15697</th>\n",
       "      <td>INTERVIEW: Managing disaster risk vital for su...</td>\n",
       "      <td>0.808616</td>\n",
       "    </tr>\n",
       "    <tr>\n",
       "      <th>7625</th>\n",
       "      <td>World leaders urged to prioritize action on wa...</td>\n",
       "      <td>0.799333</td>\n",
       "    </tr>\n",
       "    <tr>\n",
       "      <th>5192</th>\n",
       "      <td>Disaster prevention, risk reduction, critical ...</td>\n",
       "      <td>0.799311</td>\n",
       "    </tr>\n",
       "    <tr>\n",
       "      <th>6869</th>\n",
       "      <td>Land and water ecosystems, ‘stressed to a crit...</td>\n",
       "      <td>0.794555</td>\n",
       "    </tr>\n",
       "    <tr>\n",
       "      <th>6859</th>\n",
       "      <td>Land and water ecosystems, ‘stressed to a crit...</td>\n",
       "      <td>0.792906</td>\n",
       "    </tr>\n",
       "    <tr>\n",
       "      <th>885</th>\n",
       "      <td>‘Disaster emergency’ in Asia-Pacific, warns ES...</td>\n",
       "      <td>0.792507</td>\n",
       "    </tr>\n",
       "    <tr>\n",
       "      <th>13129</th>\n",
       "      <td>Migration and the climate crisis: the UN’s sea...</td>\n",
       "      <td>0.791211</td>\n",
       "    </tr>\n",
       "    <tr>\n",
       "      <th>14681</th>\n",
       "      <td>E-Governance: A powerful tool to combat, mitig...</td>\n",
       "      <td>0.790817</td>\n",
       "    </tr>\n",
       "    <tr>\n",
       "      <th>6788</th>\n",
       "      <td>COP26 defined by ‘reinvigorated multilateralis...</td>\n",
       "      <td>0.790691</td>\n",
       "    </tr>\n",
       "  </tbody>\n",
       "</table>\n",
       "</div>"
      ],
      "text/plain": [
       "                                                    text  cosine_similarities\n",
       "5171   ‘Think resilience’ to protect against climate ...             0.818388\n",
       "15697  INTERVIEW: Managing disaster risk vital for su...             0.808616\n",
       "7625   World leaders urged to prioritize action on wa...             0.799333\n",
       "5192   Disaster prevention, risk reduction, critical ...             0.799311\n",
       "6869   Land and water ecosystems, ‘stressed to a crit...             0.794555\n",
       "6859   Land and water ecosystems, ‘stressed to a crit...             0.792906\n",
       "885    ‘Disaster emergency’ in Asia-Pacific, warns ES...             0.792507\n",
       "13129  Migration and the climate crisis: the UN’s sea...             0.791211\n",
       "14681  E-Governance: A powerful tool to combat, mitig...             0.790817\n",
       "6788   COP26 defined by ‘reinvigorated multilateralis...             0.790691"
      ]
     },
     "execution_count": 95,
     "metadata": {},
     "output_type": "execute_result"
    }
   ],
   "source": [
    "model_bert = SentenceTransformer('bert-base-nli-max-tokens')\n",
    "query_embedding_bert = np.array(model_bert.encode([query]\n",
    "                                                  ,show_progress_bar=True\n",
    "                                ))\n",
    "cosine_similarities = cosine_similarity(query_embedding_bert, embedding_bert)\n",
    "df[\"cosine_similarities\"] = pd.DataFrame(cosine_similarities).T\n",
    "df.sort_values(by= \"cosine_similarities\", ascending=False).head(10)\n"
   ]
  },
  {
   "cell_type": "code",
   "execution_count": 98,
   "metadata": {},
   "outputs": [
    {
     "name": "stdout",
     "output_type": "stream",
     "text": [
      "Land and water ecosystems, ‘stressed to a critical point’  9 December 2021 Climate and Environment  Finally,FAOarguesthatsustainable use of these resources is key to achieving climate mitigation and adaptation targets. \n",
      "Land and water ecosystems, ‘stressed to a critical point’  9 December 2021 Climate and Environment  Yet,he added, thesesystems“can play a major role in alleviating these pressures and contributing positively to climate and development goals.” \n"
     ]
    }
   ],
   "source": [
    "print(df[\"text\"][6869])\n",
    "print(df[\"text\"][6859])"
   ]
  },
  {
   "cell_type": "code",
   "execution_count": null,
   "metadata": {},
   "outputs": [],
   "source": []
  }
 ],
 "metadata": {
  "kernelspec": {
   "display_name": "v_e_search_engines_project",
   "language": "python",
   "name": "python3"
  },
  "language_info": {
   "codemirror_mode": {
    "name": "ipython",
    "version": 3
   },
   "file_extension": ".py",
   "mimetype": "text/x-python",
   "name": "python",
   "nbconvert_exporter": "python",
   "pygments_lexer": "ipython3",
   "version": "3.11.5"
  }
 },
 "nbformat": 4,
 "nbformat_minor": 2
}
