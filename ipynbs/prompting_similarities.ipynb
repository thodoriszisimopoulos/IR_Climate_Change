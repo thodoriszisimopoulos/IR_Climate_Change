{
 "cells": [
  {
   "cell_type": "code",
   "execution_count": 1,
   "metadata": {},
   "outputs": [],
   "source": [
    "import pickle as pkl\n",
    "from sentence_transformers import SentenceTransformer\n",
    "import numpy as np\n",
    "from sklearn.metrics.pairwise import cosine_similarity\n",
    "import pandas as pd\n",
    "from nltk import  pos_tag\n",
    "import re"
   ]
  },
  {
   "cell_type": "code",
   "execution_count": 2,
   "metadata": {},
   "outputs": [],
   "source": [
    "df = pd.read_csv(\"../files/preprocessed_articles.csv\")\n",
    "with open('../files/embeddings.pickle.pkl', 'rb') as f:\n",
    "    embedding_bert = pkl.load(f)\n"
   ]
  },
  {
   "cell_type": "code",
   "execution_count": 7,
   "metadata": {},
   "outputs": [],
   "source": [
    "query = input(\"Enter your query: \")"
   ]
  },
  {
   "cell_type": "code",
   "execution_count": 8,
   "metadata": {},
   "outputs": [
    {
     "data": {
      "application/vnd.jupyter.widget-view+json": {
       "model_id": "dfb957c911fb4b2590bb10395989c666",
       "version_major": 2,
       "version_minor": 0
      },
      "text/plain": [
       "Batches:   0%|          | 0/1 [00:00<?, ?it/s]"
      ]
     },
     "metadata": {},
     "output_type": "display_data"
    }
   ],
   "source": [
    "model_bert = SentenceTransformer('bert-base-nli-max-tokens')\n",
    "query_embedding_bert = np.array(model_bert.encode([query]\n",
    "                                                  ,show_progress_bar=True\n",
    "                                ))\n",
    "cosine_similarities = cosine_similarity(query_embedding_bert, embedding_bert)"
   ]
  },
  {
   "cell_type": "code",
   "execution_count": 9,
   "metadata": {},
   "outputs": [],
   "source": [
    "df[\"cosine_similarities\"] = pd.DataFrame(cosine_similarities).T\n",
    "temp_df = df.sort_values(by= \"cosine_similarities\", ascending=False).head(10)\n",
    "temp_df.reset_index(drop=True, inplace=True)"
   ]
  },
  {
   "cell_type": "code",
   "execution_count": 13,
   "metadata": {},
   "outputs": [
    {
     "name": "stdout",
     "output_type": "stream",
     "text": [
      "29 october 2021 other recommendations include supporting technical political and scientific cooperation and promoting a proactive approach to flood and drought management centred around the pillars of monitoring forecasting and early warning vulnerability and impact assessment and preparedness mitigation and response\n",
      "provide information about drought\n",
      "https://news.un.org//en/story/2021/10/1104442\n",
      "World leaders urged to prioritize action on water and climate  \n"
     ]
    }
   ],
   "source": [
    "print(temp_df[\"text\"][0])\n",
    "print(query)\n",
    "print(temp_df[\"link\"][0])\n",
    "print(temp_df[\"title\"][0])"
   ]
  },
  {
   "cell_type": "code",
   "execution_count": null,
   "metadata": {},
   "outputs": [],
   "source": []
  }
 ],
 "metadata": {
  "kernelspec": {
   "display_name": "v_e_search_engines_project",
   "language": "python",
   "name": "python3"
  },
  "language_info": {
   "codemirror_mode": {
    "name": "ipython",
    "version": 3
   },
   "file_extension": ".py",
   "mimetype": "text/x-python",
   "name": "python",
   "nbconvert_exporter": "python",
   "pygments_lexer": "ipython3",
   "version": "3.11.5"
  }
 },
 "nbformat": 4,
 "nbformat_minor": 2
}
