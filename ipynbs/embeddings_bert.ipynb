{
 "cells": [
  {
   "cell_type": "code",
   "execution_count": 1,
   "metadata": {},
   "outputs": [],
   "source": [
    "from sentence_transformers import SentenceTransformer\n",
    "import numpy as np\n",
    "import matplotlib.pyplot as plt\n",
    "import pandas as pd\n",
    "import pickle as pkl"
   ]
  },
  {
   "cell_type": "code",
   "execution_count": 2,
   "metadata": {},
   "outputs": [],
   "source": [
    "df = pd.read_csv(\"../files/preprocessed_articles.csv\")"
   ]
  },
  {
   "cell_type": "code",
   "execution_count": 3,
   "metadata": {},
   "outputs": [
    {
     "data": {
      "text/html": [
       "<div>\n",
       "<style scoped>\n",
       "    .dataframe tbody tr th:only-of-type {\n",
       "        vertical-align: middle;\n",
       "    }\n",
       "\n",
       "    .dataframe tbody tr th {\n",
       "        vertical-align: top;\n",
       "    }\n",
       "\n",
       "    .dataframe thead th {\n",
       "        text-align: right;\n",
       "    }\n",
       "</style>\n",
       "<table border=\"1\" class=\"dataframe\">\n",
       "  <thead>\n",
       "    <tr style=\"text-align: right;\">\n",
       "      <th></th>\n",
       "      <th>link</th>\n",
       "      <th>title</th>\n",
       "      <th>text</th>\n",
       "    </tr>\n",
       "  </thead>\n",
       "  <tbody>\n",
       "    <tr>\n",
       "      <th>0</th>\n",
       "      <td>https://news.un.org//en/story/2023/10/1142552</td>\n",
       "      <td>World News in Brief: Sandstorm alert, albinism...</td>\n",
       "      <td>19 october 2023 the un world meteorological or...</td>\n",
       "    </tr>\n",
       "    <tr>\n",
       "      <th>1</th>\n",
       "      <td>https://news.un.org//en/story/2023/10/1142552</td>\n",
       "      <td>World News in Brief: Sandstorm alert, albinism...</td>\n",
       "      <td>19 october 2023 wmo chief petteri taalas said ...</td>\n",
       "    </tr>\n",
       "    <tr>\n",
       "      <th>2</th>\n",
       "      <td>https://news.un.org//en/story/2023/10/1142552</td>\n",
       "      <td>World News in Brief: Sandstorm alert, albinism...</td>\n",
       "      <td>19 october 2023 wmo said that exposure to dust...</td>\n",
       "    </tr>\n",
       "    <tr>\n",
       "      <th>3</th>\n",
       "      <td>https://news.un.org//en/story/2023/10/1142552</td>\n",
       "      <td>World News in Brief: Sandstorm alert, albinism...</td>\n",
       "      <td>19 october 2023 according to wmo in 2022 hotsp...</td>\n",
       "    </tr>\n",
       "    <tr>\n",
       "      <th>4</th>\n",
       "      <td>https://news.un.org//en/story/2023/10/1142552</td>\n",
       "      <td>World News in Brief: Sandstorm alert, albinism...</td>\n",
       "      <td>19 october 2023 prof taalas stressed wmos comm...</td>\n",
       "    </tr>\n",
       "    <tr>\n",
       "      <th>...</th>\n",
       "      <td>...</td>\n",
       "      <td>...</td>\n",
       "      <td>...</td>\n",
       "    </tr>\n",
       "    <tr>\n",
       "      <th>15862</th>\n",
       "      <td>https://news.un.org//en/story/2004/09/116712-c...</td>\n",
       "      <td>Concerns of island nations top final session o...</td>\n",
       "      <td>30 september 2004 in highlighting the devastat...</td>\n",
       "    </tr>\n",
       "    <tr>\n",
       "      <th>15863</th>\n",
       "      <td>https://news.un.org//en/story/2004/09/116712-c...</td>\n",
       "      <td>Concerns of island nations top final session o...</td>\n",
       "      <td>30 september 2004 talbak nazarov foreign minis...</td>\n",
       "    </tr>\n",
       "    <tr>\n",
       "      <th>15864</th>\n",
       "      <td>https://news.un.org//en/story/2004/09/116712-c...</td>\n",
       "      <td>Concerns of island nations top final session o...</td>\n",
       "      <td>30 september 2004 surinames foreign minister m...</td>\n",
       "    </tr>\n",
       "    <tr>\n",
       "      <th>15865</th>\n",
       "      <td>https://news.un.org//en/story/2004/09/116712-c...</td>\n",
       "      <td>Concerns of island nations top final session o...</td>\n",
       "      <td>30 september 2004 for carlos morales troncoso ...</td>\n",
       "    </tr>\n",
       "    <tr>\n",
       "      <th>15866</th>\n",
       "      <td>https://news.un.org//en/story/2004/09/116712-c...</td>\n",
       "      <td>Concerns of island nations top final session o...</td>\n",
       "      <td>30 september 2004 also participating in the ge...</td>\n",
       "    </tr>\n",
       "  </tbody>\n",
       "</table>\n",
       "<p>15867 rows × 3 columns</p>\n",
       "</div>"
      ],
      "text/plain": [
       "                                                    link  \\\n",
       "0          https://news.un.org//en/story/2023/10/1142552   \n",
       "1          https://news.un.org//en/story/2023/10/1142552   \n",
       "2          https://news.un.org//en/story/2023/10/1142552   \n",
       "3          https://news.un.org//en/story/2023/10/1142552   \n",
       "4          https://news.un.org//en/story/2023/10/1142552   \n",
       "...                                                  ...   \n",
       "15862  https://news.un.org//en/story/2004/09/116712-c...   \n",
       "15863  https://news.un.org//en/story/2004/09/116712-c...   \n",
       "15864  https://news.un.org//en/story/2004/09/116712-c...   \n",
       "15865  https://news.un.org//en/story/2004/09/116712-c...   \n",
       "15866  https://news.un.org//en/story/2004/09/116712-c...   \n",
       "\n",
       "                                                   title  \\\n",
       "0      World News in Brief: Sandstorm alert, albinism...   \n",
       "1      World News in Brief: Sandstorm alert, albinism...   \n",
       "2      World News in Brief: Sandstorm alert, albinism...   \n",
       "3      World News in Brief: Sandstorm alert, albinism...   \n",
       "4      World News in Brief: Sandstorm alert, albinism...   \n",
       "...                                                  ...   \n",
       "15862  Concerns of island nations top final session o...   \n",
       "15863  Concerns of island nations top final session o...   \n",
       "15864  Concerns of island nations top final session o...   \n",
       "15865  Concerns of island nations top final session o...   \n",
       "15866  Concerns of island nations top final session o...   \n",
       "\n",
       "                                                    text  \n",
       "0      19 october 2023 the un world meteorological or...  \n",
       "1      19 october 2023 wmo chief petteri taalas said ...  \n",
       "2      19 october 2023 wmo said that exposure to dust...  \n",
       "3      19 october 2023 according to wmo in 2022 hotsp...  \n",
       "4      19 october 2023 prof taalas stressed wmos comm...  \n",
       "...                                                  ...  \n",
       "15862  30 september 2004 in highlighting the devastat...  \n",
       "15863  30 september 2004 talbak nazarov foreign minis...  \n",
       "15864  30 september 2004 surinames foreign minister m...  \n",
       "15865  30 september 2004 for carlos morales troncoso ...  \n",
       "15866  30 september 2004 also participating in the ge...  \n",
       "\n",
       "[15867 rows x 3 columns]"
      ]
     },
     "execution_count": 3,
     "metadata": {},
     "output_type": "execute_result"
    }
   ],
   "source": [
    "df"
   ]
  },
  {
   "cell_type": "code",
   "execution_count": 4,
   "metadata": {},
   "outputs": [],
   "source": [
    "paragraphs = list(df[\"text\"])"
   ]
  },
  {
   "cell_type": "code",
   "execution_count": 5,
   "metadata": {},
   "outputs": [
    {
     "data": {
      "application/vnd.jupyter.widget-view+json": {
       "model_id": "3805bb6a7f034e28860f613cbc8fb613",
       "version_major": 2,
       "version_minor": 0
      },
      "text/plain": [
       "Batches:   0%|          | 0/496 [00:00<?, ?it/s]"
      ]
     },
     "metadata": {},
     "output_type": "display_data"
    },
    {
     "name": "stdout",
     "output_type": "stream",
     "text": [
      "Bert Embedding shape (15867, 768)\n",
      "Bert Embedding sample [ 0.6180676   1.2760926   1.4080056   0.15101612  0.30869725 -0.9975331\n",
      "  0.6193666   0.7875064   0.61850184  0.43408385  0.9186804  -0.116743\n",
      "  0.8364572   0.69679004  0.6846095   0.37169775  1.2499124   0.78524745\n",
      " -0.06075841  0.35835126  0.3164785  -0.1729964   1.5945663   0.54919666\n",
      "  1.7914158   1.5172127   0.35008222  1.4531704   0.17468879  0.22366047\n",
      " -0.2960181   1.489127    0.14707974  0.8416421   0.91475093  1.0991501\n",
      " -0.13296549  0.3588691   0.5025658   0.5587665   1.7935464   0.33855018\n",
      "  0.10002077 -0.08187912 -0.13941893  0.11642153  0.21910729  1.4424803\n",
      "  0.4678396   0.4872787 ]\n"
     ]
    }
   ],
   "source": [
    "model_bert = SentenceTransformer('bert-base-nli-max-tokens')\n",
    "\n",
    "embedding_bert = np.array(model_bert.encode(paragraphs, show_progress_bar=True))\n",
    "\n",
    "#Bert embeddings are shape of 768\n",
    "print(\"Bert Embedding shape\", embedding_bert.shape)\n",
    "print(\"Bert Embedding sample\", embedding_bert[0][0:50])"
   ]
  },
  {
   "cell_type": "code",
   "execution_count": 6,
   "metadata": {},
   "outputs": [],
   "source": [
    "with open('../files/embeddings.pickle.pkl', 'wb') as f:\n",
    "    pkl.dump(embedding_bert, f)"
   ]
  },
  {
   "cell_type": "code",
   "execution_count": null,
   "metadata": {},
   "outputs": [],
   "source": []
  }
 ],
 "metadata": {
  "kernelspec": {
   "display_name": "v_e_search_engines_project",
   "language": "python",
   "name": "python3"
  },
  "language_info": {
   "codemirror_mode": {
    "name": "ipython",
    "version": 3
   },
   "file_extension": ".py",
   "mimetype": "text/x-python",
   "name": "python",
   "nbconvert_exporter": "python",
   "pygments_lexer": "ipython3",
   "version": "3.11.5"
  }
 },
 "nbformat": 4,
 "nbformat_minor": 2
}
