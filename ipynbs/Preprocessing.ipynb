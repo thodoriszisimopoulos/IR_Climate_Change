{
 "cells": [
  {
   "cell_type": "code",
   "execution_count": 3,
   "metadata": {},
   "outputs": [
    {
     "name": "stderr",
     "output_type": "stream",
     "text": [
      "[nltk_data] Downloading package stopwords to\n",
      "[nltk_data]     C:\\Users\\alexa\\AppData\\Roaming\\nltk_data...\n",
      "[nltk_data]   Package stopwords is already up-to-date!\n",
      "[nltk_data] Downloading package punkt to\n",
      "[nltk_data]     C:\\Users\\alexa\\AppData\\Roaming\\nltk_data...\n",
      "[nltk_data]   Package punkt is already up-to-date!\n"
     ]
    },
    {
     "data": {
      "text/plain": [
       "True"
      ]
     },
     "execution_count": 3,
     "metadata": {},
     "output_type": "execute_result"
    }
   ],
   "source": [
    "import pandas as pd\n",
    "import nltk\n",
    "from nltk.corpus import stopwords\n",
    "from nltk.tokenize import word_tokenize\n",
    "from wordcloud import WordCloud\n",
    "from nltk.tag import pos_tag\n",
    "nltk.download('stopwords')\n",
    "nltk.download('punkt')"
   ]
  },
  {
   "cell_type": "code",
   "execution_count": 4,
   "metadata": {},
   "outputs": [],
   "source": [
    "df = pd.read_csv(\"C:/Users/alexa/Desktop/IR_Climate_Change/files/articles.csv\")"
   ]
  },
  {
   "cell_type": "code",
   "execution_count": 8,
   "metadata": {},
   "outputs": [
    {
     "name": "stdout",
     "output_type": "stream",
     "text": [
      "Briefing Ambassadors in New York, UN Special Representative for Somalia Catriona Laing, described the country as being at a critical juncture. “Last year, we saw the largest increase in civilian casualties since 2017. Sadly, early data indicate a similar trend in 2023, with 1,289 civilian casualties recorded so far,” she said. The military campaign against Al-Shabaab in central Somalia faced setbacks, though the national army and allied clan militias were able to initially retake significant territory. “In response to its own setbacks, Al-Shabaab has increased the use of 107mm rockets, particularly in Mogadishu. It has also conducted targeted attacks on high profile Somali politicians,” Ms. Laing added. The Special Representative, who also heads the UN Assistance Mission in Somalia (UNSOM) highlighted collaboration with the Government through a joint programme on women’s involvement in peacebuilding.  These include strengthening the role of women as peacemakers, capacity building to increase the number of women parliamentarians and enhancing legal frameworks against sexual violence. “I recently met with courageous Somali women leaders and heard of their pioneering work to ensure women play a significant role in critical areas, from politics to climate change,” Ms. Laing said. The humanitarian situation in the country remains deeply concerning, with nearly four million people facing hunger and about 1.2 million people displaced, the UN envoy said. The situation may deteriorate due to enhanced Deyr rains and the El Niño climate effect, leading to floods that could push hundreds of thousands more into food insecurity. It is crucial to address the root causes of the crisis and integrate climate adaptation, Ms. Laing urged, calling for resources towards the 2023 Humanitarian Response Plan, which remains severely underfunded. The Special Representative also noted progress in Somalia’s pursuit of reaching the Heavily Indebted Poor Countries Initiative (HIPC) completion point by December, noting the passing of the national Audit Bill in that regard. The HIPC is a World Bank-International Monetary Fund (IMF) initiative to help poorer countries manage their debt burden and ensure sufficient resources towards key services and development. Women, Peace and Security Humanitarian crisis National debt\n"
     ]
    }
   ],
   "source": [
    "print(df[\"main_text\"][0])"
   ]
  },
  {
   "cell_type": "code",
   "execution_count": null,
   "metadata": {},
   "outputs": [],
   "source": []
  }
 ],
 "metadata": {
  "kernelspec": {
   "display_name": "v_e_search_engines_project",
   "language": "python",
   "name": "python3"
  },
  "language_info": {
   "codemirror_mode": {
    "name": "ipython",
    "version": 3
   },
   "file_extension": ".py",
   "mimetype": "text/x-python",
   "name": "python",
   "nbconvert_exporter": "python",
   "pygments_lexer": "ipython3",
   "version": "3.11.5"
  }
 },
 "nbformat": 4,
 "nbformat_minor": 2
}
