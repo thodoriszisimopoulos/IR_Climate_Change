{
 "cells": [
  {
   "cell_type": "code",
   "execution_count": 108,
   "metadata": {},
   "outputs": [
    {
     "name": "stderr",
     "output_type": "stream",
     "text": [
      "[nltk_data] Downloading package stopwords to\n",
      "[nltk_data]     C:\\Users\\alexa\\AppData\\Roaming\\nltk_data...\n",
      "[nltk_data]   Package stopwords is already up-to-date!\n",
      "[nltk_data] Downloading package punkt to\n",
      "[nltk_data]     C:\\Users\\alexa\\AppData\\Roaming\\nltk_data...\n",
      "[nltk_data]   Package punkt is already up-to-date!\n"
     ]
    },
    {
     "data": {
      "text/plain": [
       "True"
      ]
     },
     "execution_count": 108,
     "metadata": {},
     "output_type": "execute_result"
    }
   ],
   "source": [
    "import pandas as pd\n",
    "import numpy as np\n",
    "import nltk\n",
    "from nltk.corpus import stopwords\n",
    "from nltk.tokenize import word_tokenize\n",
    "from nltk.tag import pos_tag\n",
    "nltk.download('stopwords')\n",
    "nltk.download('punkt')"
   ]
  },
  {
   "cell_type": "code",
   "execution_count": 109,
   "metadata": {},
   "outputs": [],
   "source": [
    "def split_main_text(main_text):\n",
    "    if pd.notna(main_text):\n",
    "        main_text_list = main_text.split('\\a')\n",
    "        return main_text_list\n",
    "    else:\n",
    "        return []\n",
    "    \n",
    "def concat_cols(line):\n",
    "    try:\n",
    "        text = line[\"title\"] + \" \" + line[\"date\"] + \" \" + line[\"category\"] + \" \" + line[\"headers\"] + \" \" + line[\"main_text_splitted\"]\n",
    "    except:\n",
    "        text = line[\"title\"] + \" \" + line[\"date\"] + \" \" + line[\"category\"] + \" \" + line[\"main_text_splitted\"]\n",
    "    return text"
   ]
  },
  {
   "cell_type": "code",
   "execution_count": 110,
   "metadata": {},
   "outputs": [],
   "source": [
    "df = pd.read_csv(\"C:/Users/alexa/Desktop/IR_Climate_Change/files/articles_V2.csv\")"
   ]
  },
  {
   "cell_type": "code",
   "execution_count": null,
   "metadata": {},
   "outputs": [],
   "source": [
    "df['main_text_splitted'] = df['main_text'].apply(lambda x: split_main_text(x))\n",
    "df = df.drop(['summary', 'main_text'], axis=1)\n",
    "df = df[df['category'] == \"Climate and Environment\"]\n",
    "df = df.reset_index(drop=True)"
   ]
  },
  {
   "cell_type": "code",
   "execution_count": 111,
   "metadata": {},
   "outputs": [],
   "source": [
    "df = df.explode('main_text_splitted')\n",
    "df.reset_index(drop=True, inplace=True)\n"
   ]
  },
  {
   "cell_type": "code",
   "execution_count": null,
   "metadata": {},
   "outputs": [],
   "source": [
    "ind = df[df[\"main_text_splitted\"].isnull()].index\n",
    "df = df.drop(ind, axis=0)\n",
    "df.reset_index(drop=True, inplace=True)"
   ]
  },
  {
   "cell_type": "code",
   "execution_count": 112,
   "metadata": {},
   "outputs": [],
   "source": [
    "df[\"main_text_len\"] = df[\"main_text_splitted\"].apply(lambda x: len(x))\n",
    "df.groupby(by=\"main_text_len\").count()[\"main_text_splitted\"].plot()\n",
    "df = df[(df[\"main_text_len\"]) > 100]\n",
    "df.reset_index(drop=True, inplace=True)\n",
    "df.groupby(by=\"main_text_len\").count()[\"main_text_splitted\"].plot()"
   ]
  },
  {
   "cell_type": "code",
   "execution_count": 116,
   "metadata": {},
   "outputs": [],
   "source": [
    "df[\"text\"] = df.apply(lambda x: concat_cols(x), axis=1)\n",
    "df = df.drop([\"title\", \"date\",\"category\",\"headers\", \"main_text_splitted\", \"main_text_len\", \"link\"], axis=1)\n",
    "df.reset_index(drop=True, inplace=True)\n",
    "\n",
    "df.to_csv('../files/preprocessed_articles.csv', index=False)\n",
    "\n"
   ]
  }
 ],
 "metadata": {
  "kernelspec": {
   "display_name": "v_e_search_engines_project",
   "language": "python",
   "name": "python3"
  },
  "language_info": {
   "codemirror_mode": {
    "name": "ipython",
    "version": 3
   },
   "file_extension": ".py",
   "mimetype": "text/x-python",
   "name": "python",
   "nbconvert_exporter": "python",
   "pygments_lexer": "ipython3",
   "version": "3.11.5"
  }
 },
 "nbformat": 4,
 "nbformat_minor": 2
}
