{
 "cells": [
  {
   "cell_type": "code",
   "execution_count": 1,
   "metadata": {},
   "outputs": [
    {
     "name": "stderr",
     "output_type": "stream",
     "text": [
      "[nltk_data] Downloading package stopwords to\n",
      "[nltk_data]     C:\\Users\\alexa\\AppData\\Roaming\\nltk_data...\n",
      "[nltk_data]   Package stopwords is already up-to-date!\n",
      "[nltk_data] Downloading package punkt to\n",
      "[nltk_data]     C:\\Users\\alexa\\AppData\\Roaming\\nltk_data...\n",
      "[nltk_data]   Package punkt is already up-to-date!\n"
     ]
    },
    {
     "data": {
      "text/plain": [
       "True"
      ]
     },
     "execution_count": 1,
     "metadata": {},
     "output_type": "execute_result"
    }
   ],
   "source": [
    "import pandas as pd\n",
    "import numpy as np\n",
    "import nltk\n",
    "import re\n",
    "import matplotlib.pyplot as plt\n",
    "from nltk.corpus import stopwords\n",
    "from nltk.tokenize import word_tokenize\n",
    "from nltk.tag import pos_tag\n",
    "nltk.download('stopwords')\n",
    "nltk.download('punkt')"
   ]
  },
  {
   "cell_type": "code",
   "execution_count": 2,
   "metadata": {},
   "outputs": [],
   "source": [
    "def split_main_text(main_text):\n",
    "    if pd.notna(main_text):\n",
    "        main_text_list = main_text.split('\\a')\n",
    "        return main_text_list\n",
    "    else:\n",
    "        return []\n",
    "    \n",
    "def concat_cols(line):\n",
    "    try:\n",
    "        text = line[\"date\"] + \" \" + line[\"main_text_splitted\"]  # line[\"title\"] + \" \" + \" \" + line[\"category\"] + \" \" + line[\"headers\"] + \n",
    "    except:\n",
    "        text = line[\"date\"] + \" \" + line[\"main_text_splitted\"]\n",
    "    return text\n",
    "\n",
    "def clean_text(text):\n",
    "    text = text.lower()  # Convert to lower case\n",
    "    text = re.sub(r'\\s+', ' ', text)  # Replace multiple spaces with a single space\n",
    "    text = re.sub(r'[^\\x00-\\x7F]+', '', text)  # Remove non-printable characters\n",
    "    text = re.sub(r'[^\\w\\s]', '', text)  # Remove punctuation and special characters\n",
    "    return text"
   ]
  },
  {
   "cell_type": "code",
   "execution_count": 3,
   "metadata": {},
   "outputs": [],
   "source": [
    "df = pd.read_csv(\"../files/articles_V2.csv\")"
   ]
  },
  {
   "cell_type": "code",
   "execution_count": 4,
   "metadata": {},
   "outputs": [],
   "source": [
    "df['main_text_splitted'] = df['main_text'].apply(lambda x: split_main_text(x))\n",
    "df = df.drop(['summary', 'main_text'], axis=1)\n",
    "df = df[df['category'] == \"Climate and Environment\"]\n",
    "df = df.reset_index(drop=True)"
   ]
  },
  {
   "cell_type": "code",
   "execution_count": 5,
   "metadata": {},
   "outputs": [
    {
     "data": {
      "text/html": [
       "<div>\n",
       "<style scoped>\n",
       "    .dataframe tbody tr th:only-of-type {\n",
       "        vertical-align: middle;\n",
       "    }\n",
       "\n",
       "    .dataframe tbody tr th {\n",
       "        vertical-align: top;\n",
       "    }\n",
       "\n",
       "    .dataframe thead th {\n",
       "        text-align: right;\n",
       "    }\n",
       "</style>\n",
       "<table border=\"1\" class=\"dataframe\">\n",
       "  <thead>\n",
       "    <tr style=\"text-align: right;\">\n",
       "      <th></th>\n",
       "      <th>link</th>\n",
       "      <th>title</th>\n",
       "      <th>date</th>\n",
       "      <th>category</th>\n",
       "      <th>headers</th>\n",
       "      <th>main_text_splitted</th>\n",
       "    </tr>\n",
       "  </thead>\n",
       "  <tbody>\n",
       "    <tr>\n",
       "      <th>0</th>\n",
       "      <td>https://news.un.org//en/story/2023/10/1142552</td>\n",
       "      <td>World News in Brief: Sandstorm alert, albinism...</td>\n",
       "      <td>19 October 2023</td>\n",
       "      <td>Climate and Environment</td>\n",
       "      <td>Hundreds killed and injured</td>\n",
       "      <td>[The UN World Meteorological Organization (WMO...</td>\n",
       "    </tr>\n",
       "    <tr>\n",
       "      <th>1</th>\n",
       "      <td>https://news.un.org//en/story/2023/10/1142317</td>\n",
       "      <td>Cutting disaster risk will boost equality, imp...</td>\n",
       "      <td>13 October 2023</td>\n",
       "      <td>Climate and Environment</td>\n",
       "      <td>NaN</td>\n",
       "      <td>[According to various estimates, up to 75 per ...</td>\n",
       "    </tr>\n",
       "    <tr>\n",
       "      <th>2</th>\n",
       "      <td>https://news.un.org//en/story/2023/10/1142302</td>\n",
       "      <td>Tackling disasters means safer and fairer futu...</td>\n",
       "      <td>13 October 2023</td>\n",
       "      <td>Climate and Environment</td>\n",
       "      <td>UN Resident Coordinator:</td>\n",
       "      <td>[Earthquakes, hurricanes, volcanic activity an...</td>\n",
       "    </tr>\n",
       "    <tr>\n",
       "      <th>3</th>\n",
       "      <td>https://news.un.org//en/story/2023/10/1142227</td>\n",
       "      <td>WMO: Global stocktake of water resources needed</td>\n",
       "      <td>12 October 2023</td>\n",
       "      <td>Climate and Environment</td>\n",
       "      <td>NaN</td>\n",
       "      <td>[Destructive droughts and heavy rains are caus...</td>\n",
       "    </tr>\n",
       "    <tr>\n",
       "      <th>4</th>\n",
       "      <td>https://news.un.org//en/story/2023/10/1142212</td>\n",
       "      <td>In Iceland, UN deputy chief says all conflict ...</td>\n",
       "      <td>11 October 2023</td>\n",
       "      <td>Climate and Environment</td>\n",
       "      <td>Persevere for peace \u0007 Climate change impacts</td>\n",
       "      <td>[During her visit, which concluded on Tuesday,...</td>\n",
       "    </tr>\n",
       "    <tr>\n",
       "      <th>...</th>\n",
       "      <td>...</td>\n",
       "      <td>...</td>\n",
       "      <td>...</td>\n",
       "      <td>...</td>\n",
       "      <td>...</td>\n",
       "      <td>...</td>\n",
       "    </tr>\n",
       "    <tr>\n",
       "      <th>1004</th>\n",
       "      <td>https://news.un.org//en/story/2015/07/503332-i...</td>\n",
       "      <td>INTERVIEW: \"Climate change is in everybody's b...</td>\n",
       "      <td>1 July 2015</td>\n",
       "      <td>Climate and Environment</td>\n",
       "      <td>NaN</td>\n",
       "      <td>[Mr.  Redford has been heavily involved in env...</td>\n",
       "    </tr>\n",
       "    <tr>\n",
       "      <th>1005</th>\n",
       "      <td>https://news.un.org//en/story/2013/04/436902-f...</td>\n",
       "      <td>FEATURE: One woman’s heroic efforts to restore...</td>\n",
       "      <td>12 April 2013</td>\n",
       "      <td>Climate and Environment</td>\n",
       "      <td>NaN</td>\n",
       "      <td>[She is one of five individuals from around th...</td>\n",
       "    </tr>\n",
       "    <tr>\n",
       "      <th>1006</th>\n",
       "      <td>https://news.un.org//en/story/2007/12/242842-a...</td>\n",
       "      <td>Accepting Nobel Prize, laureates issue strong ...</td>\n",
       "      <td>10 December 2007</td>\n",
       "      <td>Climate and Environment</td>\n",
       "      <td>NaN</td>\n",
       "      <td>[“We, the human species, are confronting a pla...</td>\n",
       "    </tr>\n",
       "    <tr>\n",
       "      <th>1007</th>\n",
       "      <td>https://news.un.org//en/story/2006/11/201222-r...</td>\n",
       "      <td>Rearing cattle produces more greenhouse gases ...</td>\n",
       "      <td>29 November 2006</td>\n",
       "      <td>Climate and Environment</td>\n",
       "      <td>NaN</td>\n",
       "      <td>[Cattle-rearing generates more global warming ...</td>\n",
       "    </tr>\n",
       "    <tr>\n",
       "      <th>1008</th>\n",
       "      <td>https://news.un.org//en/story/2004/09/116712-c...</td>\n",
       "      <td>Concerns of island nations top final session o...</td>\n",
       "      <td>30 September 2004</td>\n",
       "      <td>Climate and Environment</td>\n",
       "      <td>NaN</td>\n",
       "      <td>[Foreign Minister Jérémie Bonnelame of Seychel...</td>\n",
       "    </tr>\n",
       "  </tbody>\n",
       "</table>\n",
       "<p>1009 rows × 6 columns</p>\n",
       "</div>"
      ],
      "text/plain": [
       "                                                   link  \\\n",
       "0         https://news.un.org//en/story/2023/10/1142552   \n",
       "1         https://news.un.org//en/story/2023/10/1142317   \n",
       "2         https://news.un.org//en/story/2023/10/1142302   \n",
       "3         https://news.un.org//en/story/2023/10/1142227   \n",
       "4         https://news.un.org//en/story/2023/10/1142212   \n",
       "...                                                 ...   \n",
       "1004  https://news.un.org//en/story/2015/07/503332-i...   \n",
       "1005  https://news.un.org//en/story/2013/04/436902-f...   \n",
       "1006  https://news.un.org//en/story/2007/12/242842-a...   \n",
       "1007  https://news.un.org//en/story/2006/11/201222-r...   \n",
       "1008  https://news.un.org//en/story/2004/09/116712-c...   \n",
       "\n",
       "                                                  title               date  \\\n",
       "0     World News in Brief: Sandstorm alert, albinism...    19 October 2023   \n",
       "1     Cutting disaster risk will boost equality, imp...    13 October 2023   \n",
       "2     Tackling disasters means safer and fairer futu...    13 October 2023   \n",
       "3       WMO: Global stocktake of water resources needed    12 October 2023   \n",
       "4     In Iceland, UN deputy chief says all conflict ...    11 October 2023   \n",
       "...                                                 ...                ...   \n",
       "1004  INTERVIEW: \"Climate change is in everybody's b...        1 July 2015   \n",
       "1005  FEATURE: One woman’s heroic efforts to restore...      12 April 2013   \n",
       "1006  Accepting Nobel Prize, laureates issue strong ...   10 December 2007   \n",
       "1007  Rearing cattle produces more greenhouse gases ...   29 November 2006   \n",
       "1008  Concerns of island nations top final session o...  30 September 2004   \n",
       "\n",
       "                     category                                       headers  \\\n",
       "0     Climate and Environment                   Hundreds killed and injured   \n",
       "1     Climate and Environment                                           NaN   \n",
       "2     Climate and Environment                      UN Resident Coordinator:   \n",
       "3     Climate and Environment                                           NaN   \n",
       "4     Climate and Environment  Persevere for peace \u0007 Climate change impacts   \n",
       "...                       ...                                           ...   \n",
       "1004  Climate and Environment                                           NaN   \n",
       "1005  Climate and Environment                                           NaN   \n",
       "1006  Climate and Environment                                           NaN   \n",
       "1007  Climate and Environment                                           NaN   \n",
       "1008  Climate and Environment                                           NaN   \n",
       "\n",
       "                                     main_text_splitted  \n",
       "0     [The UN World Meteorological Organization (WMO...  \n",
       "1     [According to various estimates, up to 75 per ...  \n",
       "2     [Earthquakes, hurricanes, volcanic activity an...  \n",
       "3     [Destructive droughts and heavy rains are caus...  \n",
       "4     [During her visit, which concluded on Tuesday,...  \n",
       "...                                                 ...  \n",
       "1004  [Mr.  Redford has been heavily involved in env...  \n",
       "1005  [She is one of five individuals from around th...  \n",
       "1006  [“We, the human species, are confronting a pla...  \n",
       "1007  [Cattle-rearing generates more global warming ...  \n",
       "1008  [Foreign Minister Jérémie Bonnelame of Seychel...  \n",
       "\n",
       "[1009 rows x 6 columns]"
      ]
     },
     "execution_count": 5,
     "metadata": {},
     "output_type": "execute_result"
    }
   ],
   "source": [
    "df"
   ]
  },
  {
   "cell_type": "code",
   "execution_count": 6,
   "metadata": {},
   "outputs": [],
   "source": [
    "df = df.explode('main_text_splitted')\n",
    "df.reset_index(drop=True, inplace=True)"
   ]
  },
  {
   "cell_type": "code",
   "execution_count": 7,
   "metadata": {},
   "outputs": [],
   "source": [
    "ind = df[df[\"main_text_splitted\"].isnull()].index\n",
    "df = df.drop(ind, axis=0)\n",
    "df.reset_index(drop=True, inplace=True)"
   ]
  },
  {
   "cell_type": "code",
   "execution_count": 8,
   "metadata": {},
   "outputs": [
    {
     "data": {
      "text/plain": [
       "<Axes: xlabel='main_text_len'>"
      ]
     },
     "execution_count": 8,
     "metadata": {},
     "output_type": "execute_result"
    },
    {
     "data": {
      "image/png": "[encoded data removed]",
      "text/plain": [
       "<Figure size 640x480 with 1 Axes>"
      ]
     },
     "metadata": {},
     "output_type": "display_data"
    }
   ],
   "source": [
    "df[\"main_text_len\"] = df[\"main_text_splitted\"].apply(lambda x: len(x))\n",
    "df.groupby(by=\"main_text_len\").count()[\"main_text_splitted\"].plot()\n",
    "df = df[(df[\"main_text_len\"]) > 100]\n",
    "df.reset_index(drop=True, inplace=True)\n",
    "df.groupby(by=\"main_text_len\").count()[\"main_text_splitted\"].plot()"
   ]
  },
  {
   "cell_type": "code",
   "execution_count": 9,
   "metadata": {},
   "outputs": [],
   "source": [
    "df[\"text\"] = df.apply(lambda x: concat_cols(x), axis=1)\n",
    "df = df.drop([\"date\",\"category\",\"headers\", \"main_text_splitted\", \"main_text_len\"], axis=1) #\"title\", \"link\"\n",
    "df.reset_index(drop=True, inplace=True)\n",
    "\n",
    "df['text'] = df['text'].apply(clean_text)\n"
   ]
  },
  {
   "cell_type": "code",
   "execution_count": 11,
   "metadata": {},
   "outputs": [
    {
     "data": {
      "text/plain": [
       "'19 october 2023 the un world meteorological organization wmo said in a new report on thursday that every year around 2000 million tonnes of dust enter the atmosphere darkening skies and harming air quality in regions that can be thousands of kilometres away '"
      ]
     },
     "execution_count": 11,
     "metadata": {},
     "output_type": "execute_result"
    }
   ],
   "source": [
    "df['text'][0]"
   ]
  },
  {
   "cell_type": "code",
   "execution_count": 12,
   "metadata": {},
   "outputs": [
    {
     "data": {
      "text/html": [
       "<div>\n",
       "<style scoped>\n",
       "    .dataframe tbody tr th:only-of-type {\n",
       "        vertical-align: middle;\n",
       "    }\n",
       "\n",
       "    .dataframe tbody tr th {\n",
       "        vertical-align: top;\n",
       "    }\n",
       "\n",
       "    .dataframe thead th {\n",
       "        text-align: right;\n",
       "    }\n",
       "</style>\n",
       "<table border=\"1\" class=\"dataframe\">\n",
       "  <thead>\n",
       "    <tr style=\"text-align: right;\">\n",
       "      <th></th>\n",
       "      <th>link</th>\n",
       "      <th>title</th>\n",
       "      <th>text</th>\n",
       "    </tr>\n",
       "  </thead>\n",
       "  <tbody>\n",
       "    <tr>\n",
       "      <th>0</th>\n",
       "      <td>https://news.un.org//en/story/2023/10/1142552</td>\n",
       "      <td>World News in Brief: Sandstorm alert, albinism...</td>\n",
       "      <td>19 october 2023 the un world meteorological or...</td>\n",
       "    </tr>\n",
       "    <tr>\n",
       "      <th>1</th>\n",
       "      <td>https://news.un.org//en/story/2023/10/1142552</td>\n",
       "      <td>World News in Brief: Sandstorm alert, albinism...</td>\n",
       "      <td>19 october 2023 wmo chief petteri taalas said ...</td>\n",
       "    </tr>\n",
       "    <tr>\n",
       "      <th>2</th>\n",
       "      <td>https://news.un.org//en/story/2023/10/1142552</td>\n",
       "      <td>World News in Brief: Sandstorm alert, albinism...</td>\n",
       "      <td>19 october 2023 wmo said that exposure to dust...</td>\n",
       "    </tr>\n",
       "    <tr>\n",
       "      <th>3</th>\n",
       "      <td>https://news.un.org//en/story/2023/10/1142552</td>\n",
       "      <td>World News in Brief: Sandstorm alert, albinism...</td>\n",
       "      <td>19 october 2023 according to wmo in 2022 hotsp...</td>\n",
       "    </tr>\n",
       "    <tr>\n",
       "      <th>4</th>\n",
       "      <td>https://news.un.org//en/story/2023/10/1142552</td>\n",
       "      <td>World News in Brief: Sandstorm alert, albinism...</td>\n",
       "      <td>19 october 2023 prof taalas stressed wmos comm...</td>\n",
       "    </tr>\n",
       "    <tr>\n",
       "      <th>...</th>\n",
       "      <td>...</td>\n",
       "      <td>...</td>\n",
       "      <td>...</td>\n",
       "    </tr>\n",
       "    <tr>\n",
       "      <th>15862</th>\n",
       "      <td>https://news.un.org//en/story/2004/09/116712-c...</td>\n",
       "      <td>Concerns of island nations top final session o...</td>\n",
       "      <td>30 september 2004 in highlighting the devastat...</td>\n",
       "    </tr>\n",
       "    <tr>\n",
       "      <th>15863</th>\n",
       "      <td>https://news.un.org//en/story/2004/09/116712-c...</td>\n",
       "      <td>Concerns of island nations top final session o...</td>\n",
       "      <td>30 september 2004 talbak nazarov foreign minis...</td>\n",
       "    </tr>\n",
       "    <tr>\n",
       "      <th>15864</th>\n",
       "      <td>https://news.un.org//en/story/2004/09/116712-c...</td>\n",
       "      <td>Concerns of island nations top final session o...</td>\n",
       "      <td>30 september 2004 surinames foreign minister m...</td>\n",
       "    </tr>\n",
       "    <tr>\n",
       "      <th>15865</th>\n",
       "      <td>https://news.un.org//en/story/2004/09/116712-c...</td>\n",
       "      <td>Concerns of island nations top final session o...</td>\n",
       "      <td>30 september 2004 for carlos morales troncoso ...</td>\n",
       "    </tr>\n",
       "    <tr>\n",
       "      <th>15866</th>\n",
       "      <td>https://news.un.org//en/story/2004/09/116712-c...</td>\n",
       "      <td>Concerns of island nations top final session o...</td>\n",
       "      <td>30 september 2004 also participating in the ge...</td>\n",
       "    </tr>\n",
       "  </tbody>\n",
       "</table>\n",
       "<p>15867 rows × 3 columns</p>\n",
       "</div>"
      ],
      "text/plain": [
       "                                                    link  \\\n",
       "0          https://news.un.org//en/story/2023/10/1142552   \n",
       "1          https://news.un.org//en/story/2023/10/1142552   \n",
       "2          https://news.un.org//en/story/2023/10/1142552   \n",
       "3          https://news.un.org//en/story/2023/10/1142552   \n",
       "4          https://news.un.org//en/story/2023/10/1142552   \n",
       "...                                                  ...   \n",
       "15862  https://news.un.org//en/story/2004/09/116712-c...   \n",
       "15863  https://news.un.org//en/story/2004/09/116712-c...   \n",
       "15864  https://news.un.org//en/story/2004/09/116712-c...   \n",
       "15865  https://news.un.org//en/story/2004/09/116712-c...   \n",
       "15866  https://news.un.org//en/story/2004/09/116712-c...   \n",
       "\n",
       "                                                   title  \\\n",
       "0      World News in Brief: Sandstorm alert, albinism...   \n",
       "1      World News in Brief: Sandstorm alert, albinism...   \n",
       "2      World News in Brief: Sandstorm alert, albinism...   \n",
       "3      World News in Brief: Sandstorm alert, albinism...   \n",
       "4      World News in Brief: Sandstorm alert, albinism...   \n",
       "...                                                  ...   \n",
       "15862  Concerns of island nations top final session o...   \n",
       "15863  Concerns of island nations top final session o...   \n",
       "15864  Concerns of island nations top final session o...   \n",
       "15865  Concerns of island nations top final session o...   \n",
       "15866  Concerns of island nations top final session o...   \n",
       "\n",
       "                                                    text  \n",
       "0      19 october 2023 the un world meteorological or...  \n",
       "1      19 october 2023 wmo chief petteri taalas said ...  \n",
       "2      19 october 2023 wmo said that exposure to dust...  \n",
       "3      19 october 2023 according to wmo in 2022 hotsp...  \n",
       "4      19 october 2023 prof taalas stressed wmos comm...  \n",
       "...                                                  ...  \n",
       "15862  30 september 2004 in highlighting the devastat...  \n",
       "15863  30 september 2004 talbak nazarov foreign minis...  \n",
       "15864  30 september 2004 surinames foreign minister m...  \n",
       "15865  30 september 2004 for carlos morales troncoso ...  \n",
       "15866  30 september 2004 also participating in the ge...  \n",
       "\n",
       "[15867 rows x 3 columns]"
      ]
     },
     "execution_count": 12,
     "metadata": {},
     "output_type": "execute_result"
    }
   ],
   "source": [
    "df"
   ]
  },
  {
   "cell_type": "code",
   "execution_count": 13,
   "metadata": {},
   "outputs": [],
   "source": [
    "df.to_csv('../files/preprocessed_articles.csv', index=False)"
   ]
  },
  {
   "cell_type": "code",
   "execution_count": null,
   "metadata": {},
   "outputs": [],
   "source": []
  },
  {
   "cell_type": "code",
   "execution_count": null,
   "metadata": {},
   "outputs": [],
   "source": []
  }
 ],
 "metadata": {
  "kernelspec": {
   "display_name": "v_e_search_engines_project",
   "language": "python",
   "name": "python3"
  },
  "language_info": {
   "codemirror_mode": {
    "name": "ipython",
    "version": 3
   },
   "file_extension": ".py",
   "mimetype": "text/x-python",
   "name": "python",
   "nbconvert_exporter": "python",
   "pygments_lexer": "ipython3",
   "version": "3.11.5"
  }
 },
 "nbformat": 4,
 "nbformat_minor": 2
}
